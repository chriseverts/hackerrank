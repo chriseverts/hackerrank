{
 "cells": [
  {
   "cell_type": "markdown",
   "id": "24382035",
   "metadata": {},
   "source": [
    "Given an integer, , and  space-separated integers as input, create a tuple, , of those  integers. Then compute and print the result of .\n",
    "\n",
    "Note: hash() is one of the functions in the __builtins__ module, so it need not be imported.\n",
    "\n",
    "Input Format\n",
    "\n",
    "The first line contains an integer, , denoting the number of elements in the tuple.\n",
    "The second line contains  space-separated integers describing the elements in tuple .\n",
    "\n",
    "Output Format\n",
    "\n",
    "Print the result of .\n",
    "\n",
    "Sample Input 0\n",
    "\n",
    "2\n",
    "1 2\n",
    "Sample Output 0\n",
    "\n",
    "3713081631934410656"
   ]
  },
  {
   "cell_type": "code",
   "execution_count": 22,
   "id": "23d9469f",
   "metadata": {},
   "outputs": [
    {
     "name": "stdout",
     "output_type": "stream",
     "text": [
      "1\n",
      "12\n",
      "-860454829093830431\n"
     ]
    }
   ],
   "source": [
    "if __name__ == '__main__':\n",
    "    n = int(input())\n",
    "    integer_list = map(int,input().split())\n",
    "    integer_list = tuple((integer_list))\n",
    "print(hash(integer_list))"
   ]
  },
  {
   "cell_type": "code",
   "execution_count": null,
   "id": "6b2fef3c",
   "metadata": {},
   "outputs": [],
   "source": []
  }
 ],
 "metadata": {
  "kernelspec": {
   "display_name": "Python 3",
   "language": "python",
   "name": "python3"
  },
  "language_info": {
   "codemirror_mode": {
    "name": "ipython",
    "version": 3
   },
   "file_extension": ".py",
   "mimetype": "text/x-python",
   "name": "python",
   "nbconvert_exporter": "python",
   "pygments_lexer": "ipython3",
   "version": "3.8.8"
  }
 },
 "nbformat": 4,
 "nbformat_minor": 5
}
