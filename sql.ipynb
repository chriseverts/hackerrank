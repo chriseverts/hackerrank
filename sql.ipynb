{
 "cells": [
  {
   "cell_type": "markdown",
   "id": "d15bbaf8",
   "metadata": {},
   "source": [
    "You are given two tables: Students and Grades. Students contains three columns ID, Name and Marks.\n",
    "\n",
    "\n",
    "\n",
    "Grades contains the following data:\n",
    "\n",
    "\n",
    "\n",
    "Ketty gives Eve a task to generate a report containing three columns: Name, Grade and Mark. Ketty doesn't want the NAMES of those students who received a grade lower than 8. The report must be in descending order by grade -- i.e. higher grades are entered first. If there is more than one student with the same grade (8-10) assigned to them, order those particular students by their name alphabetically. Finally, if the grade is lower than 8, use \"NULL\" as their name and list them by their grades in descending order. If there is more than one student with the same grade (1-7) assigned to them, order those particular students by their marks in ascending order.\n",
    "\n",
    "Write a query to help Eve.\n",
    "\n",
    "Sample Input\n",
    "\n",
    "\n",
    "\n",
    "Sample Output\n",
    "\n",
    "Maria 10 99\n",
    "Jane 9 81\n",
    "Julia 9 88 \n",
    "Scarlet 8 78\n",
    "NULL 7 63\n",
    "NULL 7 68\n",
    "\n",
    "Note\n",
    "\n",
    "Print \"NULL\"  as the name if the grade is less than 8.\n",
    "\n",
    "Explanation\n",
    "\n",
    "Consider the following table with the grades assigned to the students:\n",
    "\n",
    "\n",
    "\n",
    "So, the following students got 8, 9 or 10 grades:\n",
    "\n",
    "Maria (grade 10)\n",
    "Jane (grade 9)\n",
    "Julia (grade 9)\n",
    "Scarlet (grade 8)"
   ]
  },
  {
   "cell_type": "markdown",
   "id": "253242f5",
   "metadata": {},
   "source": [
    "SELECT CASE \n",
    "\tWHEN Grades.Grade < 8 THEN 'NULL' \n",
    "\tELSE Students.Name \n",
    "\tEND \n",
    ", Grades.Grade, Students.Marks \n",
    "FROM Students, Grades \n",
    "WHERE Students.Marks >= Grades.Min_mark AND Students.Marks <= Grades.Max_mark \n",
    "ORDER BY Grades.Grade DESC, Students.Name;"
   ]
  },
  {
   "cell_type": "markdown",
   "id": "6c5dec5a",
   "metadata": {},
   "source": [
    "Write a query identifying the type of each record in the TRIANGLES table using its three side lengths. Output one of the following statements for each record in the table:\n",
    "\n",
    "Equilateral: It's a triangle with  sides of equal length.\n",
    "Isosceles: It's a triangle with  sides of equal length.\n",
    "Scalene: It's a triangle with  sides of differing lengths.\n",
    "Not A Triangle: The given values of A, B, and C don't form a triangle.\n",
    "Input Format\n",
    "\n",
    "The TRIANGLES table is described as follows:\n",
    "\n",
    "\n",
    "\n",
    "Each row in the table denotes the lengths of each of a triangle's three sides.\n",
    "\n",
    "Sample Input\n",
    "\n",
    "\n",
    "\n",
    "Sample Output\n",
    "\n",
    "Isosceles\n",
    "Equilateral\n",
    "Scalene\n",
    "Not A Triangle\n",
    "Explanation\n",
    "\n",
    "Values in the tuple  form an Isosceles triangle, because .\n",
    "Values in the tuple  form an Equilateral triangle, because . Values in the tuple  form a Scalene triangle, because .\n",
    "Values in the tuple  cannot form a triangle because the combined value of sides  and  is not larger than that of side ."
   ]
  },
  {
   "cell_type": "markdown",
   "id": "e101e088",
   "metadata": {},
   "source": [
    "SELECT\n",
    "  CASE \n",
    "    WHEN A + B <= C or A + C <= B or B + C <= A THEN 'Not A Triangle'\n",
    "    WHEN A = B and B = C THEN 'Equilateral'\n",
    "    WHEN A = B or A = C or B = C THEN 'Isosceles'\n",
    "    WHEN A <> B and B <> C THEN 'Scalene'\n",
    "  END tuple\n",
    "FROM TRIANGLES;"
   ]
  }
 ],
 "metadata": {
  "kernelspec": {
   "display_name": "Python 3",
   "language": "python",
   "name": "python3"
  },
  "language_info": {
   "codemirror_mode": {
    "name": "ipython",
    "version": 3
   },
   "file_extension": ".py",
   "mimetype": "text/x-python",
   "name": "python",
   "nbconvert_exporter": "python",
   "pygments_lexer": "ipython3",
   "version": "3.8.8"
  }
 },
 "nbformat": 4,
 "nbformat_minor": 5
}
