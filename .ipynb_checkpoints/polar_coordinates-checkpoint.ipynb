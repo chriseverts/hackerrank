{
 "cells": [
  {
   "cell_type": "markdown",
   "id": "4ca69426",
   "metadata": {},
   "source": [
    "Polar coordinates are an alternative way of representing Cartesian coordinates or Complex Numbers.\n",
    "\n",
    "A complex number  Capture.PNG\n",
    "\n",
    "is completely determined by its real part  and imaginary part .\n",
    "Here,  is the imaginary unit.\n",
    "A polar coordinate () Capture.PNG\n",
    "\n",
    "is completely determined by modulus  and phase angle .\n",
    "\n",
    "If we convert complex number  to its polar coordinate, we find:\n",
    ": Distance from  to origin, i.e., \n",
    ": Counter clockwise angle measured from the positive -axis to the line segment that joins  to the origin.\n",
    "\n",
    "Python's cmath module provides access to the mathematical functions for complex numbers.\n",
    "\n",
    "\n",
    "This tool returns the phase of complex number  (also known as the argument of ).\n",
    "\n"
   ]
  },
  {
   "cell_type": "code",
   "execution_count": null,
   "id": "23ded518",
   "metadata": {},
   "outputs": [],
   "source": [
    "import cmath;\n",
    "\n",
    "num = complex(input())\n",
    "z = complex(num)\n",
    "\n",
    "print(cmath.polar(z)[0])\n",
    "print(cmath.polar(z)[1])\n",
    "# Polar Coordinates in Python - Hacker Rank Solution END"
   ]
  }
 ],
 "metadata": {
  "kernelspec": {
   "display_name": "Python 3",
   "language": "python",
   "name": "python3"
  },
  "language_info": {
   "codemirror_mode": {
    "name": "ipython",
    "version": 3
   },
   "file_extension": ".py",
   "mimetype": "text/x-python",
   "name": "python",
   "nbconvert_exporter": "python",
   "pygments_lexer": "ipython3",
   "version": "3.8.8"
  }
 },
 "nbformat": 4,
 "nbformat_minor": 5
}
