{
 "cells": [
  {
   "cell_type": "markdown",
   "id": "216c3faa",
   "metadata": {},
   "source": [
    "itertools.combinations(iterable, r)\n",
    "This tool returns the  length subsequences of elements from the input iterable.\n",
    "\n",
    "Combinations are emitted in lexicographic sorted order. So, if the input iterable is sorted, the combination tuples will be produced in sorted order.\n",
    "\n",
    "Sample Code\n",
    "\n",
    ">>> from itertools import combinations\n",
    ">>> \n",
    ">>> print list(combinations('12345',2))\n",
    "[('1', '2'), ('1', '3'), ('1', '4'), ('1', '5'), ('2', '3'), ('2', '4'), ('2', '5'), ('3', '4'), ('3', '5'), ('4', '5')]\n",
    ">>> \n",
    ">>> A = [1,1,3,3,3]\n",
    ">>> print list(combinations(A,4))\n",
    "[(1, 1, 3, 3), (1, 1, 3, 3), (1, 1, 3, 3), (1, 3, 3, 3), (1, 3, 3, 3)]\n",
    "Task\n",
    "\n",
    "You are given a string .\n",
    "Your task is to print all possible combinations, up to size , of the string in lexicographic sorted order.\n",
    "\n",
    "Input Format\n",
    "\n",
    "A single line containing the string  and integer value  separated by a space.\n",
    "\n",
    "Constraints\n",
    "\n",
    "\n",
    "The string contains only UPPERCASE characters.\n",
    "\n",
    "Output Format\n",
    "\n",
    "Print the different combinations of string  on separate lines.\n",
    "\n",
    "Sample Input\n",
    "\n",
    "HACK 2\n",
    "Sample Output\n",
    "\n",
    "A\n",
    "C\n",
    "H\n",
    "K\n",
    "AC\n",
    "AH\n",
    "AK\n",
    "CH\n",
    "CK\n",
    "HK"
   ]
  },
  {
   "cell_type": "code",
   "execution_count": null,
   "id": "76fb28c6",
   "metadata": {},
   "outputs": [],
   "source": [
    "from itertools import combinations\n",
    "io = input().split()\n",
    "S = io[0]\n",
    "k = int(io[1])\n",
    "for i in range(1,k+1):\n",
    "    for j in combinations(sorted(S),i):\n",
    "        print(\"\".join(j))"
   ]
  }
 ],
 "metadata": {
  "kernelspec": {
   "display_name": "Python 3",
   "language": "python",
   "name": "python3"
  },
  "language_info": {
   "codemirror_mode": {
    "name": "ipython",
    "version": 3
   },
   "file_extension": ".py",
   "mimetype": "text/x-python",
   "name": "python",
   "nbconvert_exporter": "python",
   "pygments_lexer": "ipython3",
   "version": "3.8.8"
  }
 },
 "nbformat": 4,
 "nbformat_minor": 5
}
