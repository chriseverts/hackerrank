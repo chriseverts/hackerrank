{
 "cells": [
  {
   "cell_type": "markdown",
   "id": "b03f2fce",
   "metadata": {},
   "source": [
    "Task\n",
    "Read a given string, change the character at a given index and then print the modified string.\n",
    "Function Description\n",
    "\n",
    "Complete the mutate_string function in the editor below.\n",
    "\n",
    "mutate_string has the following parameters:\n",
    "\n",
    "string string: the string to change\n",
    "int position: the index to insert the character at\n",
    "string character: the character to insert\n",
    "Returns\n",
    "\n",
    "string: the altered string"
   ]
  },
  {
   "cell_type": "code",
   "execution_count": null,
   "id": "2b0bf77a",
   "metadata": {},
   "outputs": [],
   "source": [
    "# Mutations in Python - HackerRank Solution\n",
    "def mutate_string(string, position, character):\n",
    "    # Mutations in Python - HackerRank Solution START\n",
    "    l = list(string)\n",
    "    l[position] = character;\n",
    "    string = ''.join(l);\n",
    "    return string\n",
    "    # Mutations in Python - HackerRank Solution END\n",
    "if __name__ == '__main__':\n",
    "    s = input()\n",
    "    i, c = input().split()\n",
    "    s_new = mutate_string(s, int(i), c)\n",
    "    print(s_new)"
   ]
  }
 ],
 "metadata": {
  "kernelspec": {
   "display_name": "Python 3",
   "language": "python",
   "name": "python3"
  },
  "language_info": {
   "codemirror_mode": {
    "name": "ipython",
    "version": 3
   },
   "file_extension": ".py",
   "mimetype": "text/x-python",
   "name": "python",
   "nbconvert_exporter": "python",
   "pygments_lexer": "ipython3",
   "version": "3.8.8"
  }
 },
 "nbformat": 4,
 "nbformat_minor": 5
}
