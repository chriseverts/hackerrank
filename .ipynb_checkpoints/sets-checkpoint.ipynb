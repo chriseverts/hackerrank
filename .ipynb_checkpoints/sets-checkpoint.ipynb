{
 "cells": [
  {
   "cell_type": "markdown",
   "id": "947d8893",
   "metadata": {},
   "source": [
    "ask\n",
    "\n",
    "Now, let's use our knowledge of sets and help Mickey.\n",
    "\n",
    "Ms. Gabriel Williams is a botany professor at District College. One day, she asked her student Mickey to compute the average of all the plants with distinct heights in her greenhouse.\n",
    "\n",
    "Formula used:\n",
    "\n",
    "Function Description\n",
    "\n",
    "Complete the average function in the editor below.\n",
    "\n",
    "average has the following parameters:\n",
    "\n",
    "int arr: an array of integers\n",
    "Returns\n",
    "\n",
    "float: the resulting float value rounded to 3 places after the decimal\n",
    "Input Format\n",
    "\n",
    "The first line contains the integer, , the size of .\n",
    "The second line contains the  space-separated integers, .\n",
    "\n",
    "Constraints\n",
    "\n",
    "\n",
    "Sample Input"
   ]
  },
  {
   "cell_type": "code",
   "execution_count": null,
   "id": "7685898e",
   "metadata": {},
   "outputs": [],
   "source": [
    "def average(array):\n",
    "     # Introduction to Sets in Python - Hacker Rank Solution START\n",
    "    sum_array = sum(set(array))# sum of the array\n",
    "    len_array = len(set(array))# length of the array\n",
    "    output = sum_array/len_array# calculates the average\n",
    "    return output;\n",
    "    # Introduction to Sets in Python - Hacker Rank Solution END\n",
    "if __name__ == '__main__':\n",
    "    n = int(input())\n",
    "    arr = list(map(int, input().split()))\n",
    "    result = average(arr)\n",
    "    print(result)"
   ]
  },
  {
   "cell_type": "markdown",
   "id": "6ad05e25",
   "metadata": {},
   "source": [
    "Functions used in this programs are\n",
    "\n",
    "raw_input() - read input from IO\n",
    "\n",
    "strip() - strip white space from beginning and the end\n",
    "\n",
    "int() - convert to int\n",
    "\n",
    "split(' ') - split the string in to an array, white space is the separator used for split\n",
    "\n",
    "map(arg1, arg2) - apply a function to every item in the list and returns the result as list. First argument is the function and second one is the list\n",
    "\n",
    "The description of each line is\n",
    "\n",
    "n= int(raw_input().strip()) - Read a single digit input, strip white space, convert to integer and save to n\n",
    "\n",
    "arr= map(int,raw_input().strip().split(' ')) - Read a line from IO, strip whitespace, split it to a list, convert all list items to integer and save to arr\n",
    "\n",
    "TLDR;\n",
    "\n",
    "It first asks to enter a single digit, convert to integer. Next it asks to enter a line of numbers, convert to integer array.\n",
    "\n"
   ]
  },
  {
   "cell_type": "code",
   "execution_count": null,
   "id": "0b7c7ab4",
   "metadata": {},
   "outputs": [],
   "source": []
  }
 ],
 "metadata": {
  "kernelspec": {
   "display_name": "Python 3",
   "language": "python",
   "name": "python3"
  },
  "language_info": {
   "codemirror_mode": {
    "name": "ipython",
    "version": 3
   },
   "file_extension": ".py",
   "mimetype": "text/x-python",
   "name": "python",
   "nbconvert_exporter": "python",
   "pygments_lexer": "ipython3",
   "version": "3.8.8"
  }
 },
 "nbformat": 4,
 "nbformat_minor": 5
}
