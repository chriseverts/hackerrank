{
 "cells": [
  {
   "cell_type": "markdown",
   "id": "29e1e2b6",
   "metadata": {},
   "source": [
    "Task\n",
    "Given  sets of integers,  and , print their symmetric difference in ascending order. The term symmetric difference indicates those values that exist in either  or  but do not exist in both.\n",
    "\n",
    "Input Format\n",
    "\n",
    "The first line of input contains an integer, .\n",
    "The second line contains  space-separated integers.\n",
    "The third line contains an integer, .\n",
    "The fourth line contains  space-separated integers.\n",
    "\n",
    "Output Format"
   ]
  },
  {
   "cell_type": "code",
   "execution_count": null,
   "id": "a2b173d9",
   "metadata": {},
   "outputs": [],
   "source": [
    "# Symmetric Difference in Python - Hacker Rank Solution\n",
    "# Enter your code here. Read input from STDIN. Print output to STDOUT\n",
    "# Symmetric Difference in Python - Hacker Rank Solution START\n",
    "M = int(input())\n",
    "mset = set(map(int, input().split()))\n",
    "N = int(input())\n",
    "nset = set(map(int, input().split()))\n",
    "\n",
    "mdef = mset.difference(nset)\n",
    "ndef = nset.difference(mset)\n",
    "\n",
    "output = mdef.union(ndef)\n",
    "\n",
    "for i in sorted(list(output)):\n",
    "    print(i)\n",
    "# Symmetric Difference in Python - Hacker Rank Solution END"
   ]
  }
 ],
 "metadata": {
  "kernelspec": {
   "display_name": "Python 3",
   "language": "python",
   "name": "python3"
  },
  "language_info": {
   "codemirror_mode": {
    "name": "ipython",
    "version": 3
   },
   "file_extension": ".py",
   "mimetype": "text/x-python",
   "name": "python",
   "nbconvert_exporter": "python",
   "pygments_lexer": "ipython3",
   "version": "3.8.8"
  }
 },
 "nbformat": 4,
 "nbformat_minor": 5
}
