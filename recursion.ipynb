{
 "cells": [
  {
   "cell_type": "markdown",
   "id": "007f50c6",
   "metadata": {},
   "source": [
    "Function Description\n",
    "Complete the factorial function in the editor below. Be sure to use recursion.\n",
    "\n",
    "factorial has the following paramter:\n",
    "\n",
    "int n: an integer\n",
    "Returns\n",
    "\n",
    "int: the factorial of \n",
    "Note: If you fail to use recursion or fail to name your recursive function factorial or Factorial, you will get a score of .\n",
    "\n",
    "Input Format\n",
    "\n",
    "A single integer,  (the argument to pass to factorial)."
   ]
  },
  {
   "cell_type": "code",
   "execution_count": null,
   "id": "e3614f00",
   "metadata": {},
   "outputs": [],
   "source": [
    "import math\n",
    "import os\n",
    "import random\n",
    "import re\n",
    "import sys\n",
    "\n",
    "# Complete the factorial function below.\n",
    "def factorial(n):\n",
    "\n",
    "    if n == 1:\n",
    "        return 1\n",
    "    else:\n",
    "        n = n * factorial(n-1)\n",
    "    return n\n",
    "\n",
    "\n",
    "if __name__ == '__main__':\n",
    "    fptr = open(os.environ['OUTPUT_PATH'], 'w')\n",
    "\n",
    "    n = int(input())\n",
    "\n",
    "    result = factorial(n)\n",
    "\n",
    "    fptr.write(str(result) + '\\n')\n",
    "\n",
    "    fptr.close()"
   ]
  },
  {
   "cell_type": "code",
   "execution_count": null,
   "id": "13aafe43",
   "metadata": {},
   "outputs": [],
   "source": []
  }
 ],
 "metadata": {
  "kernelspec": {
   "display_name": "Python 3",
   "language": "python",
   "name": "python3"
  },
  "language_info": {
   "codemirror_mode": {
    "name": "ipython",
    "version": 3
   },
   "file_extension": ".py",
   "mimetype": "text/x-python",
   "name": "python",
   "nbconvert_exporter": "python",
   "pygments_lexer": "ipython3",
   "version": "3.8.8"
  }
 },
 "nbformat": 4,
 "nbformat_minor": 5
}
