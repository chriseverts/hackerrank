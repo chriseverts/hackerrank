{
 "cells": [
  {
   "cell_type": "code",
   "execution_count": null,
   "id": "f13a36db",
   "metadata": {},
   "outputs": [],
   "source": [
    "# Arrays\n",
    "\n",
    "# The NumPy (Numeric Python) package helps us manipulate large arrays and matrices of numeric data.\n",
    "\n",
    "# To use the NumPy module, we need to import it using:\n",
    "# import numpy\n",
    "\n",
    "# Arrays\n",
    "# A NumPy array is a grid of values. They are similar to lists, except that every element of an array must be the same type.\n",
    "\n",
    "# import numpy\n",
    "\n",
    "# a = numpy.array([1,2,3,4,5])\n",
    "# print a[1]          #2\n",
    "\n",
    "# b = numpy.array([1,2,3,4,5],float)\n",
    "# print b[1]          #2.0\n",
    "\n",
    "# In the above example, numpy.array() is used to convert a list into a NumPy array. The second argument (float) can be used to set the\n",
    "# type of array elements.\n",
    "\n",
    "# Task\n",
    "\n",
    "# You are given a space separated list of numbers. \n",
    "# Your task is to print a reversed NumPy array with the element type float.\n",
    "\n",
    "# Input Format\n",
    "# A single line of input containing space separated numbers.\n",
    "\n",
    "# Output Format\n",
    "# Print the reverse NumPy array with type float.\n",
    "\n",
    "import numpy\n",
    "\n",
    "lis = numpy.array(raw_input().split(' '), float)\n",
    "print lis[::-1]"
   ]
  },
  {
   "cell_type": "code",
   "execution_count": null,
   "id": "e10bc58a",
   "metadata": {},
   "outputs": [],
   "source": [
    "import numpy\n",
    "N, M = map(int, input().split())\n",
    "\n",
    "A = numpy.array([input().split() for i in range(N)],dtype = int)\n",
    "print(numpy.max(numpy.min(A, axis=1), axis=0))"
   ]
  },
  {
   "cell_type": "code",
   "execution_count": null,
   "id": "5782af2b",
   "metadata": {},
   "outputs": [],
   "source": []
  }
 ],
 "metadata": {
  "kernelspec": {
   "display_name": "Python 3",
   "language": "python",
   "name": "python3"
  },
  "language_info": {
   "codemirror_mode": {
    "name": "ipython",
    "version": 3
   },
   "file_extension": ".py",
   "mimetype": "text/x-python",
   "name": "python",
   "nbconvert_exporter": "python",
   "pygments_lexer": "ipython3",
   "version": "3.8.8"
  }
 },
 "nbformat": 4,
 "nbformat_minor": 5
}
