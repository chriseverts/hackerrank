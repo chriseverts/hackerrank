{
 "cells": [
  {
   "cell_type": "markdown",
   "id": "6fe67fe3",
   "metadata": {},
   "source": [
    "Sum \n",
    "The sum tool returns the sum of array elements over a given axis. \n",
    "import numpy\n",
    "\n",
    "my_array = numpy.array([ [1, 2], [3, 4] ])\n",
    "\n",
    "print numpy.sum(my_array, axis = 0)         #Output : [4 6]\n",
    "print numpy.sum(my_array, axis = 1)         #Output : [3 7]\n",
    "print numpy.sum(my_array, axis = None)      #Output : 10\n",
    "print numpy.sum(my_array)                   #Output : 10\n",
    "\n",
    "By default, the axis value is None. Therefore, it performs a sum over all the dimensions of the input array.\n",
    " \n",
    "Prod\n",
    "The prod tool returns the product of array elements over a given axis.\n",
    "import numpy\n",
    "\n",
    "my_array = numpy.array([ [1, 2], [3, 4] ])\n",
    "\n",
    "print numpy.prod(my_array, axis = 0)            #Output : [3 8]\n",
    "print numpy.prod(my_array, axis = 1)            #Output : [ 2 12]\n",
    "print numpy.prod(my_array, axis = None)         #Output : 24\n",
    "print numpy.prod(my_array)                      #Output : 24\n",
    " \n",
    "By default, the axis value is None. Therefore, it performs the product over all the dimensions of the input array."
   ]
  },
  {
   "cell_type": "code",
   "execution_count": null,
   "id": "d3cd1f53",
   "metadata": {},
   "outputs": [],
   "source": [
    "# Sum and Prod in Python - Hacker Rank Solution\n",
    "# Python 3\n",
    "# Sum and Prod in Python - Hacker Rank Solution START\n",
    "import numpy\n",
    "\n",
    "N, M = map(int, input().split())\n",
    "A = numpy.array([input().split() for _ in range(N)],int)\n",
    "print(numpy.prod(numpy.sum(A, axis=0), axis=0))\n"
   ]
  }
 ],
 "metadata": {
  "kernelspec": {
   "display_name": "Python 3",
   "language": "python",
   "name": "python3"
  },
  "language_info": {
   "codemirror_mode": {
    "name": "ipython",
    "version": 3
   },
   "file_extension": ".py",
   "mimetype": "text/x-python",
   "name": "python",
   "nbconvert_exporter": "python",
   "pygments_lexer": "ipython3",
   "version": "3.8.8"
  }
 },
 "nbformat": 4,
 "nbformat_minor": 5
}
